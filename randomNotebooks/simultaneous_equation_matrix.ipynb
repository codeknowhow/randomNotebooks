{
 "cells": [
  {
   "cell_type": "markdown",
   "id": "397599b7",
   "metadata": {},
   "source": [
    "2x - y = 1\n",
    "2x + 2y = 10"
   ]
  },
  {
   "cell_type": "code",
   "execution_count": 5,
   "id": "d10ef5df",
   "metadata": {},
   "outputs": [],
   "source": [
    "# this is a comment as it starts with #\n",
    "#\n",
    "# need numpy for matrices conventionally imported to be called np\n",
    "\n",
    "import numpy as np\n"
   ]
  },
  {
   "cell_type": "code",
   "execution_count": 6,
   "id": "558991d6",
   "metadata": {},
   "outputs": [
    {
     "name": "stdout",
     "output_type": "stream",
     "text": [
      "[[ 2 -1]\n",
      " [ 2  2]]\n"
     ]
    }
   ],
   "source": [
    "# declare matrix \n",
    "A = np.matrix('2 -1; 2 2')\n",
    "\n",
    "#have a look at it\n",
    "print(A)"
   ]
  },
  {
   "cell_type": "code",
   "execution_count": 7,
   "id": "83d42c8b",
   "metadata": {},
   "outputs": [
    {
     "name": "stdout",
     "output_type": "stream",
     "text": [
      "[[ 1]\n",
      " [10]]\n"
     ]
    }
   ],
   "source": [
    "#declare the second matrix\n",
    "B = np.matrix('1; 10')\n",
    "print(B)"
   ]
  },
  {
   "cell_type": "code",
   "execution_count": 8,
   "id": "2e4ece15",
   "metadata": {},
   "outputs": [
    {
     "data": {
      "text/plain": [
       "matrix([[ 0.33333333,  0.16666667],\n",
       "        [-0.33333333,  0.33333333]])"
      ]
     },
     "execution_count": 8,
     "metadata": {},
     "output_type": "execute_result"
    }
   ],
   "source": [
    "I = A.getI()\n",
    "I"
   ]
  },
  {
   "cell_type": "code",
   "execution_count": 10,
   "id": "02860887",
   "metadata": {},
   "outputs": [
    {
     "name": "stdout",
     "output_type": "stream",
     "text": [
      "[[2.]\n",
      " [3.]]\n"
     ]
    }
   ],
   "source": [
    "answer = np.matmul(I,B)\n",
    "print(answer)"
   ]
  },
  {
   "cell_type": "code",
   "execution_count": 14,
   "id": "5ecb4378",
   "metadata": {},
   "outputs": [
    {
     "name": "stdout",
     "output_type": "stream",
     "text": [
      "x = 2.0\n",
      "y = 2.9999999999999996\n"
     ]
    }
   ],
   "source": [
    "x = answer[0,0]\n",
    "y = answer[1,0]\n",
    "\n",
    "print(f'x = {x}')\n",
    "print(f'y = {y}')"
   ]
  },
  {
   "cell_type": "code",
   "execution_count": null,
   "id": "c4fe0453",
   "metadata": {},
   "outputs": [],
   "source": []
  }
 ],
 "metadata": {},
 "nbformat": 4,
 "nbformat_minor": 5
}
