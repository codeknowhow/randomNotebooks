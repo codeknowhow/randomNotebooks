{
 "cells": [
  {
   "cell_type": "markdown",
   "id": "397599b7",
   "metadata": {},
   "source": [
    "2x - y = 1\n",
    "2x + 2y = 10"
   ]
  },
  {
   "cell_type": "code",
   "execution_count": 4,
   "id": "d10ef5df",
   "metadata": {},
   "outputs": [],
   "source": [
    "# this is a comment as it starts with #\n",
    "#\n",
    "# need numpy for matrices conventionally imported to be called np\n",
    "\n",
    "import numpy as np\n"
   ]
  },
  {
   "cell_type": "code",
   "execution_count": 5,
   "id": "558991d6",
   "metadata": {},
   "outputs": [
    {
     "name": "stdout",
     "output_type": "stream",
     "text": [
      "[[ 2 -1]\n",
      " [ 2  2]]\n"
     ]
    }
   ],
   "source": [
    "# declare matrix \n",
    "A = np.matrix('2 -1; 2 2')\n",
    "\n",
    "#have a look at it\n",
    "print(A)"
   ]
  },
  {
   "cell_type": "code",
   "execution_count": 6,
   "id": "83d42c8b",
   "metadata": {},
   "outputs": [
    {
     "name": "stdout",
     "output_type": "stream",
     "text": [
      "[[ 1]\n",
      " [10]]\n"
     ]
    }
   ],
   "source": [
    "#declare the second matrix\n",
    "B = np.matrix('1; 10')\n",
    "print(B)"
   ]
  },
  {
   "cell_type": "code",
   "execution_count": 7,
   "id": "2e4ece15",
   "metadata": {},
   "outputs": [
    {
     "data": {
      "text/plain": [
       "matrix([[ 0.33333333,  0.16666667],\n",
       "        [-0.33333333,  0.33333333]])"
      ]
     },
     "execution_count": 7,
     "metadata": {},
     "output_type": "execute_result"
    }
   ],
   "source": [
    "I = A.getI()\n",
    "I"
   ]
  },
  {
   "cell_type": "code",
   "execution_count": 8,
   "id": "02860887",
   "metadata": {},
   "outputs": [
    {
     "name": "stdout",
     "output_type": "stream",
     "text": [
      "[[2.]\n",
      " [3.]]\n"
     ]
    }
   ],
   "source": [
    "answer = np.matmul(I,B)\n",
    "print(answer)"
   ]
  },
  {
   "cell_type": "code",
   "execution_count": 9,
   "id": "5ecb4378",
   "metadata": {},
   "outputs": [
    {
     "name": "stdout",
     "output_type": "stream",
     "text": [
      "x = 2.0\n",
      "y = 2.9999999999999996\n"
     ]
    }
   ],
   "source": [
    "x = answer[0,0]\n",
    "y = answer[1,0]\n",
    "\n",
    "print(f'x = {x}')\n",
    "print(f'y = {y}')"
   ]
  },
  {
   "cell_type": "code",
   "execution_count": 15,
   "id": "c4fe0453",
   "metadata": {},
   "outputs": [],
   "source": [
    "# A= equations, B = solutions\n",
    "def solveSimulEqn2by2(A, B):\n",
    "    inverse = A.getI()\n",
    "    answer = np.matmul(inverse, B)\n",
    "    return answer[0, 0], answer[1, 0]\n"
   ]
  },
  {
   "cell_type": "code",
   "execution_count": null,
   "id": "3b2daa97",
   "metadata": {},
   "outputs": [],
   "source": [
    "# problems from workbook"
   ]
  },
  {
   "cell_type": "code",
   "execution_count": 16,
   "id": "599e83fe",
   "metadata": {},
   "outputs": [
    {
     "name": "stdout",
     "output_type": "stream",
     "text": [
      "x = 2.0, y = 2.9999999999999996\n"
     ]
    }
   ],
   "source": [
    "x, y = solveSimulEqn2by2(np.matrix('2 -1; 2 2'), np.matrix('1; 10'))\n",
    "print(f'x = {x}, y = {y}')"
   ]
  },
  {
   "cell_type": "code",
   "execution_count": 17,
   "id": "b936e7b2",
   "metadata": {},
   "outputs": [
    {
     "name": "stdout",
     "output_type": "stream",
     "text": [
      "x = 1.0, y = 1.9999999999999998\n"
     ]
    }
   ],
   "source": [
    "x, y = x, y = solveSimulEqn2by2(np.matrix('2 3; 5 -2'), np.matrix('8; 1'))\n",
    "print(f'x = {x}, y = {y}')"
   ]
  },
  {
   "cell_type": "code",
   "execution_count": 19,
   "id": "69727dd4",
   "metadata": {},
   "outputs": [
    {
     "name": "stdout",
     "output_type": "stream",
     "text": [
      "x = -0.9999999999999999, y = 2.0\n"
     ]
    }
   ],
   "source": [
    "x, y = solveSimulEqn2by2(np.matrix('3 5; 4 3'), np.matrix('7; 2'))\n",
    "print(f'x = {x}, y = {y}')"
   ]
  },
  {
   "cell_type": "code",
   "execution_count": 20,
   "id": "433b750f",
   "metadata": {},
   "outputs": [
    {
     "name": "stdout",
     "output_type": "stream",
     "text": [
      "x = 2.0, y = -5.0\n"
     ]
    }
   ],
   "source": [
    "x, y = solveSimulEqn2by2(np.matrix('5 -1; 1 1'), np.matrix('15; -3'))\n",
    "print(f'x = {x}, y = {y}')"
   ]
  },
  {
   "cell_type": "code",
   "execution_count": 21,
   "id": "4e3ba277",
   "metadata": {},
   "outputs": [
    {
     "name": "stdout",
     "output_type": "stream",
     "text": [
      "x = 1.0, y = -3.0\n"
     ]
    }
   ],
   "source": [
    "x, y = solveSimulEqn2by2(np.matrix('3 -1; 2 5'), np.matrix('6; -13'))\n",
    "print(f'x = {x}, y = {y}')"
   ]
  },
  {
   "cell_type": "code",
   "execution_count": 22,
   "id": "c2f9d9ad",
   "metadata": {},
   "outputs": [
    {
     "name": "stdout",
     "output_type": "stream",
     "text": [
      "x = -3.0, y = 2.0\n"
     ]
    }
   ],
   "source": [
    "x, y = solveSimulEqn2by2(np.matrix('3 5; 1 -1'), np.matrix('1; -5'))\n",
    "print(f'x = {x}, y = {y}')"
   ]
  },
  {
   "cell_type": "code",
   "execution_count": 23,
   "id": "8d3a717a",
   "metadata": {},
   "outputs": [
    {
     "name": "stdout",
     "output_type": "stream",
     "text": [
      "x = 4.0, y = 0.9999999999999999\n"
     ]
    }
   ],
   "source": [
    "x, y = solveSimulEqn2by2(np.matrix('2 -5; 3 2'), np.matrix('3; 14'))\n",
    "print(f'x = {x}, y = {y}')"
   ]
  },
  {
   "cell_type": "code",
   "execution_count": 24,
   "id": "d587bb55",
   "metadata": {},
   "outputs": [
    {
     "name": "stdout",
     "output_type": "stream",
     "text": [
      "x = -3.0, y = 3.9999999999999996\n"
     ]
    }
   ],
   "source": [
    "x, y = solveSimulEqn2by2(np.matrix('2 3; 3 2'), np.matrix('6; -1'))\n",
    "print(f'x = {x}, y = {y}')"
   ]
  },
  {
   "cell_type": "code",
   "execution_count": 25,
   "id": "690bac13",
   "metadata": {},
   "outputs": [
    {
     "name": "stdout",
     "output_type": "stream",
     "text": [
      "x = 5.0, y = -2.9999999999999996\n"
     ]
    }
   ],
   "source": [
    "x, y = solveSimulEqn2by2(np.matrix('3 -1; 1 2'), np.matrix('18; -1'))\n",
    "print(f'x = {x}, y = {y}')"
   ]
  },
  {
   "cell_type": "markdown",
   "id": "4f32b641",
   "metadata": {},
   "source": [
    "part 2"
   ]
  },
  {
   "cell_type": "code",
   "execution_count": 26,
   "id": "70b9994c",
   "metadata": {},
   "outputs": [
    {
     "name": "stdout",
     "output_type": "stream",
     "text": [
      "x = -4.0, y = 3.0\n"
     ]
    }
   ],
   "source": [
    "x, y = solveSimulEqn2by2(np.matrix('2 0; 3 4'), np.matrix('-8; 0'))\n",
    "print(f'x = {x}, y = {y}')"
   ]
  },
  {
   "cell_type": "code",
   "execution_count": 32,
   "id": "a546b564",
   "metadata": {},
   "outputs": [
    {
     "name": "stdout",
     "output_type": "stream",
     "text": [
      "x = 1.9999999999999998, y = 4.0\n"
     ]
    }
   ],
   "source": [
    "x, y = solveSimulEqn2by2(np.matrix('3 2; 2 -5'), np.matrix('14; -16'))\n",
    "print(f'x = {x}, y = {y}')"
   ]
  },
  {
   "cell_type": "code",
   "execution_count": 33,
   "id": "37c12c58",
   "metadata": {},
   "outputs": [
    {
     "name": "stdout",
     "output_type": "stream",
     "text": [
      "x = -1.0, y = 2.0\n"
     ]
    }
   ],
   "source": [
    "x, y = solveSimulEqn2by2(np.matrix('-3 5; 2 3'), np.matrix('13; 4'))\n",
    "print(f'x = {x}, y = {y}')"
   ]
  },
  {
   "cell_type": "code",
   "execution_count": 34,
   "id": "380dac71",
   "metadata": {},
   "outputs": [
    {
     "name": "stdout",
     "output_type": "stream",
     "text": [
      "x = -2.9999999999999996, y = 1.0\n"
     ]
    }
   ],
   "source": [
    "x, y = solveSimulEqn2by2(np.matrix('1 5; -2 3'), np.matrix('2; 9'))\n",
    "print(f'x = {x}, y = {y}')"
   ]
  },
  {
   "cell_type": "code",
   "execution_count": 35,
   "id": "91acc7c0",
   "metadata": {},
   "outputs": [
    {
     "name": "stdout",
     "output_type": "stream",
     "text": [
      "x = -4.0, y = 2.0\n"
     ]
    }
   ],
   "source": [
    "x, y = solveSimulEqn2by2(np.matrix('4 3; -2 5'), np.matrix('-10; 18'))\n",
    "print(f'x = {x}, y = {y}')"
   ]
  },
  {
   "cell_type": "code",
   "execution_count": null,
   "id": "49ef3762",
   "metadata": {},
   "outputs": [],
   "source": [
    "x, y = solveSimulEqn2by2(np.matrix('2 5; -5 2'), np.matrix('-5; -31'))\n",
    "print(f'x = {x}, y = {y}')"
   ]
  }
 ],
 "metadata": {
  "kernelspec": {
   "display_name": "Python 3 (ipykernel)",
   "language": "python",
   "name": "python3"
  },
  "language_info": {
   "codemirror_mode": {
    "name": "ipython",
    "version": 3
   },
   "file_extension": ".py",
   "mimetype": "text/x-python",
   "name": "python",
   "nbconvert_exporter": "python",
   "pygments_lexer": "ipython3",
   "version": "3.9.7"
  }
 },
 "nbformat": 4,
 "nbformat_minor": 5
}
